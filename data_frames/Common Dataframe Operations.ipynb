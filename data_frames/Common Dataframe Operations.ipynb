{
 "cells": [
  {
   "cell_type": "code",
   "execution_count": 1,
   "id": "2a172d12-2ca7-4e8f-828e-fa5b55d01f5b",
   "metadata": {},
   "outputs": [],
   "source": [
    "from pyspark.sql import SparkSession"
   ]
  },
  {
   "cell_type": "code",
   "execution_count": 2,
   "id": "e4744055-deda-40df-a13a-1f6f190a5f47",
   "metadata": {},
   "outputs": [
    {
     "name": "stderr",
     "output_type": "stream",
     "text": [
      "25/06/23 09:05:12 WARN Utils: Your hostname, pop-os resolves to a loopback address: 127.0.1.1; using 192.168.1.74 instead (on interface wlp3s0)\n",
      "25/06/23 09:05:12 WARN Utils: Set SPARK_LOCAL_IP if you need to bind to another address\n",
      "Setting default log level to \"WARN\".\n",
      "To adjust logging level use sc.setLogLevel(newLevel). For SparkR, use setLogLevel(newLevel).\n",
      "25/06/23 09:05:13 WARN NativeCodeLoader: Unable to load native-hadoop library for your platform... using builtin-java classes where applicable\n"
     ]
    }
   ],
   "source": [
    "spark = SparkSession.builder.appName('Spark').getOrCreate()"
   ]
  },
  {
   "cell_type": "code",
   "execution_count": 4,
   "id": "ec306aa8-af3a-432b-8053-78f544bbc198",
   "metadata": {},
   "outputs": [
    {
     "data": {
      "text/html": [
       "\n",
       "            <div>\n",
       "                <p><b>SparkSession - in-memory</b></p>\n",
       "                \n",
       "        <div>\n",
       "            <p><b>SparkContext</b></p>\n",
       "\n",
       "            <p><a href=\"http://192.168.1.74:4040\">Spark UI</a></p>\n",
       "\n",
       "            <dl>\n",
       "              <dt>Version</dt>\n",
       "                <dd><code>v3.5.6</code></dd>\n",
       "              <dt>Master</dt>\n",
       "                <dd><code>local[*]</code></dd>\n",
       "              <dt>AppName</dt>\n",
       "                <dd><code>Spark</code></dd>\n",
       "            </dl>\n",
       "        </div>\n",
       "        \n",
       "            </div>\n",
       "        "
      ],
      "text/plain": [
       "<pyspark.sql.session.SparkSession at 0x7fdb4c91ba60>"
      ]
     },
     "execution_count": 4,
     "metadata": {},
     "output_type": "execute_result"
    }
   ],
   "source": [
    "spark"
   ]
  },
  {
   "cell_type": "code",
   "execution_count": 9,
   "id": "f82d1445-2d5a-4f27-992f-160bdfc8513d",
   "metadata": {},
   "outputs": [],
   "source": [
    "from pyspark.sql.functions import *"
   ]
  },
  {
   "cell_type": "markdown",
   "id": "0b9aa5db-67dd-4cf7-8356-6252e74a3c02",
   "metadata": {},
   "source": [
    "# DataFrameReader\n",
    "* It enables you to read data into a DataFrame from myriad data sources in formats such as JSON, CSV,\n",
    "TEXT, etc.\n"
   ]
  },
  {
   "cell_type": "markdown",
   "id": "9c399bdb-f0e2-4caa-962f-57bb205c49ec",
   "metadata": {},
   "source": [
    "# DataFrameWriter\n",
    "* It write a DataFrame back to a data source in a particular format."
   ]
  },
  {
   "cell_type": "code",
   "execution_count": 3,
   "id": "2f33c8c5-78c9-4b0c-9e93-91079479e292",
   "metadata": {},
   "outputs": [],
   "source": [
    "from pyspark.sql.types import *"
   ]
  },
  {
   "cell_type": "code",
   "execution_count": 4,
   "id": "40397e1b-122b-46ed-a1fa-f5e607925450",
   "metadata": {},
   "outputs": [],
   "source": [
    "schema = StructType(\n",
    "    [\n",
    "        StructField(\"CallNumber\", IntegerType(), True),\n",
    "        StructField(\"UnitID\", StringType(), True),\n",
    "        StructField(\"IncidentNumber\", IntegerType(), True),\n",
    "        StructField(\"CallType\", StringType(), True),\n",
    "        StructField(\"CallDate\", StringType(), True),\n",
    "        StructField(\"WatchDate\", StringType(), True),\n",
    "        StructField(\"CallFinalDisposition\", StringType(), True),\n",
    "        StructField(\"AvailableDtTm\", StringType(), True),\n",
    "        StructField(\"Address\", StringType(), True),\n",
    "        StructField(\"City\", StringType(), True),\n",
    "        StructField(\"Zipcode\", IntegerType(), True),\n",
    "        StructField(\"Battalion\", StringType(), True),\n",
    "        StructField(\"StationArea\", StringType(), True),\n",
    "        StructField(\"Box\", StringType(), True),\n",
    "        StructField(\"OriginalPriority\", StringType(), True),\n",
    "        StructField(\"Priority\", StringType(), True),\n",
    "        StructField(\"FinalPriority\", IntegerType(), True),\n",
    "        StructField(\"ALSUnit\", BooleanType(), True),\n",
    "        StructField(\"CallTypeGroup\", StringType(), True),\n",
    "        StructField(\"NumAlarms\", IntegerType(), True),\n",
    "        StructField(\"UnitType\", StringType(), True),\n",
    "        StructField(\"UnitSequenceInCallDispatch\", IntegerType(), True),\n",
    "        StructField(\"FirePreventionDistrict\", StringType(), True),\n",
    "        StructField(\"SupervisorDistrict\", IntegerType(), True),\n",
    "        StructField(\"Neighborhood\", StringType(), True),\n",
    "        StructField(\"Location\", StringType(), True),\n",
    "        StructField(\"RowID\", StringType(), True),\n",
    "        StructField(\"Delay\", FloatType(), True),\n",
    "\n",
    "    ]\n",
    ")"
   ]
  },
  {
   "cell_type": "code",
   "execution_count": 5,
   "id": "85a844db-095b-49bb-af7c-3add0b1e0e50",
   "metadata": {},
   "outputs": [],
   "source": [
    "fire_df = spark.read.csv(path='sf-fire-calls.csv', schema=schema, header=True)"
   ]
  },
  {
   "cell_type": "markdown",
   "id": "07e190e8-feb4-42d0-96f6-bdcf6f3b59d7",
   "metadata": {},
   "source": [
    "# Transformation and Actions"
   ]
  },
  {
   "cell_type": "code",
   "execution_count": 8,
   "id": "10b848ce-cfcc-4bc9-84f3-2b1d67b9d093",
   "metadata": {},
   "outputs": [
    {
     "data": {
      "text/plain": [
       "['CallNumber',\n",
       " 'UnitID',\n",
       " 'IncidentNumber',\n",
       " 'CallType',\n",
       " 'CallDate',\n",
       " 'WatchDate',\n",
       " 'CallFinalDisposition',\n",
       " 'AvailableDtTm',\n",
       " 'Address',\n",
       " 'City',\n",
       " 'Zipcode',\n",
       " 'Battalion',\n",
       " 'StationArea',\n",
       " 'Box',\n",
       " 'OriginalPriority',\n",
       " 'Priority',\n",
       " 'FinalPriority',\n",
       " 'ALSUnit',\n",
       " 'CallTypeGroup',\n",
       " 'NumAlarms',\n",
       " 'UnitType',\n",
       " 'UnitSequenceInCallDispatch',\n",
       " 'FirePreventionDistrict',\n",
       " 'SupervisorDistrict',\n",
       " 'Neighborhood',\n",
       " 'Location',\n",
       " 'RowID',\n",
       " 'Delay']"
      ]
     },
     "execution_count": 8,
     "metadata": {},
     "output_type": "execute_result"
    }
   ],
   "source": [
    "fire_df.columns"
   ]
  },
  {
   "cell_type": "code",
   "execution_count": 14,
   "id": "3188a03a-f0e9-4e9e-a1b4-ca14de2f2849",
   "metadata": {},
   "outputs": [
    {
     "name": "stdout",
     "output_type": "stream",
     "text": [
      "root\n",
      " |-- CallNumber: integer (nullable = true)\n",
      " |-- UnitID: string (nullable = true)\n",
      " |-- IncidentNumber: integer (nullable = true)\n",
      " |-- CallType: string (nullable = true)\n",
      " |-- CallDate: string (nullable = true)\n",
      " |-- WatchDate: string (nullable = true)\n",
      " |-- CallFinalDisposition: string (nullable = true)\n",
      " |-- AvailableDtTm: string (nullable = true)\n",
      " |-- Address: string (nullable = true)\n",
      " |-- City: string (nullable = true)\n",
      " |-- Zipcode: integer (nullable = true)\n",
      " |-- Battalion: string (nullable = true)\n",
      " |-- StationArea: string (nullable = true)\n",
      " |-- Box: string (nullable = true)\n",
      " |-- OriginalPriority: string (nullable = true)\n",
      " |-- Priority: string (nullable = true)\n",
      " |-- FinalPriority: integer (nullable = true)\n",
      " |-- ALSUnit: boolean (nullable = true)\n",
      " |-- CallTypeGroup: string (nullable = true)\n",
      " |-- NumAlarms: integer (nullable = true)\n",
      " |-- UnitType: string (nullable = true)\n",
      " |-- UnitSequenceInCallDispatch: integer (nullable = true)\n",
      " |-- FirePreventionDistrict: string (nullable = true)\n",
      " |-- SupervisorDistrict: integer (nullable = true)\n",
      " |-- Neighborhood: string (nullable = true)\n",
      " |-- Location: string (nullable = true)\n",
      " |-- RowID: string (nullable = true)\n",
      " |-- Delay: float (nullable = true)\n",
      "\n"
     ]
    }
   ],
   "source": [
    "fire_df.printSchema()"
   ]
  },
  {
   "cell_type": "code",
   "execution_count": 9,
   "id": "fb894165-4b51-4215-98f8-95af6787dce9",
   "metadata": {},
   "outputs": [
    {
     "name": "stderr",
     "output_type": "stream",
     "text": [
      "25/06/23 08:17:03 WARN SparkStringUtils: Truncated the string representation of a plan since it was too large. This behavior can be adjusted by setting 'spark.sql.debug.maxToStringFields'.\n"
     ]
    },
    {
     "name": "stdout",
     "output_type": "stream",
     "text": [
      "-RECORD 0------------------------------------------\n",
      " CallNumber                 | 20110016             \n",
      " UnitID                     | T13                  \n",
      " IncidentNumber             | 2003235              \n",
      " CallType                   | Structure Fire       \n",
      " CallDate                   | 01/11/2002           \n",
      " WatchDate                  | 01/10/2002           \n",
      " CallFinalDisposition       | Other                \n",
      " AvailableDtTm              | 01/11/2002 01:51:... \n",
      " Address                    | 2000 Block of CAL... \n",
      " City                       | SF                   \n",
      " Zipcode                    | 94109                \n",
      " Battalion                  | B04                  \n",
      " StationArea                | 38                   \n",
      " Box                        | 3362                 \n",
      " OriginalPriority           | 3                    \n",
      " Priority                   | 3                    \n",
      " FinalPriority              | 3                    \n",
      " ALSUnit                    | false                \n",
      " CallTypeGroup              | NULL                 \n",
      " NumAlarms                  | 1                    \n",
      " UnitType                   | TRUCK                \n",
      " UnitSequenceInCallDispatch | 2                    \n",
      " FirePreventionDistrict     | 4                    \n",
      " SupervisorDistrict         | 5                    \n",
      " Neighborhood               | Pacific Heights      \n",
      " Location                   | (37.7895840679362... \n",
      " RowID                      | 020110016-T13        \n",
      " Delay                      | 2.95                 \n",
      "only showing top 1 row\n",
      "\n"
     ]
    }
   ],
   "source": [
    "fire_df.show(1, vertical=True)"
   ]
  },
  {
   "cell_type": "markdown",
   "id": "587128a6-5412-478d-b94c-d9be742c3f17",
   "metadata": {},
   "source": [
    "# Projections and filters"
   ]
  },
  {
   "cell_type": "code",
   "execution_count": 15,
   "id": "0b68dea9-3045-4945-acf1-a7f84d39c27c",
   "metadata": {},
   "outputs": [
    {
     "name": "stdout",
     "output_type": "stream",
     "text": [
      "+--------------+----------------------+--------------+\n",
      "|IncidentNumber|AvailableDtTm         |CallType      |\n",
      "+--------------+----------------------+--------------+\n",
      "|2003235       |01/11/2002 01:51:44 AM|Structure Fire|\n",
      "|2003250       |01/11/2002 04:16:46 AM|Vehicle Fire  |\n",
      "|2003259       |01/11/2002 06:01:58 AM|Alarms        |\n",
      "|2003279       |01/11/2002 08:03:26 AM|Structure Fire|\n",
      "|2003301       |01/11/2002 09:46:44 AM|Alarms        |\n",
      "+--------------+----------------------+--------------+\n",
      "only showing top 5 rows\n",
      "\n"
     ]
    }
   ],
   "source": [
    "few_fire_df = (\n",
    "    fire_df\n",
    "    .select(\"IncidentNumber\", \"AvailableDtTm\", \"CallType\")\n",
    "    .where(col(\"CallType\") != \"Medical Incident\")\n",
    ")\n",
    "\n",
    "few_fire_df.show(5, truncate=False)"
   ]
  },
  {
   "cell_type": "code",
   "execution_count": 17,
   "id": "4b0318af-315d-4d7d-994f-62fedb9b1ce9",
   "metadata": {},
   "outputs": [
    {
     "name": "stderr",
     "output_type": "stream",
     "text": [
      "[Stage 3:>                                                        (0 + 11) / 11]"
     ]
    },
    {
     "name": "stdout",
     "output_type": "stream",
     "text": [
      "+-----------------+\n",
      "|DistinctCallTypes|\n",
      "+-----------------+\n",
      "|               30|\n",
      "+-----------------+\n",
      "\n"
     ]
    },
    {
     "name": "stderr",
     "output_type": "stream",
     "text": [
      "                                                                                "
     ]
    }
   ],
   "source": [
    "(\n",
    "    fire_df\n",
    "    .select(\"CallType\")\n",
    "    .where(col(\"CallType\").isNotNull())\n",
    "    .agg(countDistinct(\"CallType\").alias(\"DistinctCallTypes\"))\n",
    "    .show()\n",
    ")"
   ]
  },
  {
   "cell_type": "code",
   "execution_count": 20,
   "id": "b255d970-62f3-46da-968b-544f5df9a323",
   "metadata": {},
   "outputs": [
    {
     "name": "stdout",
     "output_type": "stream",
     "text": [
      "+--------------------------------------------+\n",
      "|CallType                                    |\n",
      "+--------------------------------------------+\n",
      "|Administrative                              |\n",
      "|Aircraft Emergency                          |\n",
      "|Alarms                                      |\n",
      "|Assist Police                               |\n",
      "|Citizen Assist / Service Call               |\n",
      "|Confined Space / Structure Collapse         |\n",
      "|Electrical Hazard                           |\n",
      "|Elevator / Escalator Rescue                 |\n",
      "|Explosion                                   |\n",
      "|Extrication / Entrapped (Machinery, Vehicle)|\n",
      "|Fuel Spill                                  |\n",
      "|Gas Leak (Natural and LP Gases)             |\n",
      "|HazMat                                      |\n",
      "|High Angle Rescue                           |\n",
      "|Industrial Accidents                        |\n",
      "|Marine Fire                                 |\n",
      "|Medical Incident                            |\n",
      "|Mutual Aid / Assist Outside Agency          |\n",
      "|Odor (Strange / Unknown)                    |\n",
      "|Oil Spill                                   |\n",
      "+--------------------------------------------+\n",
      "only showing top 20 rows\n",
      "\n"
     ]
    }
   ],
   "source": [
    "(\n",
    "    fire_df\n",
    "    .select(\"CallType\")\n",
    "    .where(col(\"CallType\").isNotNull())\n",
    "    .distinct()\n",
    "    .orderBy('CallType')\n",
    "    .show(truncate=False)\n",
    ")"
   ]
  },
  {
   "cell_type": "markdown",
   "id": "c6d5ecd2-a4b8-40bf-8513-44b457d7c829",
   "metadata": {},
   "source": [
    "# Renaming, adding, and dropping columns"
   ]
  },
  {
   "cell_type": "code",
   "execution_count": 6,
   "id": "ad0546ec-f63e-47c3-94a3-6f80ed8a4607",
   "metadata": {},
   "outputs": [],
   "source": [
    "new_fire_df = fire_df.withColumnRenamed(\"Delay\", \"ResponseDelayedinMins\")"
   ]
  },
  {
   "cell_type": "code",
   "execution_count": 10,
   "id": "f0c70c16-8e31-4817-b278-591d0a028812",
   "metadata": {},
   "outputs": [
    {
     "name": "stdout",
     "output_type": "stream",
     "text": [
      "+---------------------+\n",
      "|ResponseDelayedinMins|\n",
      "+---------------------+\n",
      "|5.35                 |\n",
      "|6.25                 |\n",
      "|5.2                  |\n",
      "|5.6                  |\n",
      "|7.25                 |\n",
      "+---------------------+\n",
      "only showing top 5 rows\n",
      "\n"
     ]
    }
   ],
   "source": [
    "new_fire_df.select(\"ResponseDelayedinMins\").where(col(\"ResponseDelayedinMins\") > 5).show(5, False)"
   ]
  },
  {
   "cell_type": "code",
   "execution_count": 11,
   "id": "81f953cc-4a03-4b9c-8bac-c8be8d2b0e5f",
   "metadata": {},
   "outputs": [],
   "source": [
    "fire_ts_df = (\n",
    "    new_fire_df\n",
    "    .withColumn(\"IncidentDate\", to_timestamp(col(\"CallDate\"), \"MM/dd/yyyy\"))\n",
    "    .drop(\"CallDate\")\n",
    "    .withColumn(\"OnWatchDate\", to_timestamp(col(\"WatchDate\"), \"MM/dd/yyyy\"))\n",
    "    .drop(\"WatchDate\")\n",
    "    .withColumn(\"AvailableDtTS\", to_timestamp(col(\"AvailableDtTm\"), \"MM/dd/yyyy hh:mm:ss a\"))\n",
    "    .drop(\"AvailableDtTm\")\n",
    ")"
   ]
  },
  {
   "cell_type": "code",
   "execution_count": 12,
   "id": "d52cc31e-a635-45b3-a581-8cf37488b990",
   "metadata": {},
   "outputs": [
    {
     "name": "stdout",
     "output_type": "stream",
     "text": [
      "+-------------------+-------------------+-------------------+\n",
      "|IncidentDate       |OnWatchDate        |AvailableDtTS      |\n",
      "+-------------------+-------------------+-------------------+\n",
      "|2002-01-11 00:00:00|2002-01-10 00:00:00|2002-01-11 01:51:44|\n",
      "|2002-01-11 00:00:00|2002-01-10 00:00:00|2002-01-11 03:01:18|\n",
      "|2002-01-11 00:00:00|2002-01-10 00:00:00|2002-01-11 02:39:50|\n",
      "|2002-01-11 00:00:00|2002-01-10 00:00:00|2002-01-11 04:16:46|\n",
      "|2002-01-11 00:00:00|2002-01-10 00:00:00|2002-01-11 06:01:58|\n",
      "|2002-01-11 00:00:00|2002-01-11 00:00:00|2002-01-11 08:03:26|\n",
      "|2002-01-11 00:00:00|2002-01-11 00:00:00|2002-01-11 09:46:44|\n",
      "|2002-01-11 00:00:00|2002-01-11 00:00:00|2002-01-11 09:58:53|\n",
      "|2002-01-11 00:00:00|2002-01-11 00:00:00|2002-01-11 12:06:57|\n",
      "|2002-01-11 00:00:00|2002-01-11 00:00:00|2002-01-11 13:08:40|\n",
      "+-------------------+-------------------+-------------------+\n",
      "only showing top 10 rows\n",
      "\n"
     ]
    }
   ],
   "source": [
    "fire_ts_df.select(\"IncidentDate\", \"OnWatchDate\", \"AvailableDtTS\").show(10, False)"
   ]
  },
  {
   "cell_type": "code",
   "execution_count": 13,
   "id": "201d63c9-c4c5-4db8-b271-ea49cb2dfaba",
   "metadata": {},
   "outputs": [
    {
     "name": "stderr",
     "output_type": "stream",
     "text": [
      "[Stage 2:>                                                        (0 + 11) / 11]"
     ]
    },
    {
     "name": "stdout",
     "output_type": "stream",
     "text": [
      "+------------------+\n",
      "|year(IncidentDate)|\n",
      "+------------------+\n",
      "|              2000|\n",
      "|              2001|\n",
      "|              2002|\n",
      "|              2003|\n",
      "|              2004|\n",
      "|              2005|\n",
      "|              2006|\n",
      "|              2007|\n",
      "|              2008|\n",
      "|              2009|\n",
      "|              2010|\n",
      "|              2011|\n",
      "|              2012|\n",
      "|              2013|\n",
      "|              2014|\n",
      "|              2015|\n",
      "|              2016|\n",
      "|              2017|\n",
      "|              2018|\n",
      "+------------------+\n",
      "\n"
     ]
    },
    {
     "name": "stderr",
     "output_type": "stream",
     "text": [
      "                                                                                "
     ]
    }
   ],
   "source": [
    "(\n",
    "    fire_ts_df\n",
    "    .select(year(\"IncidentDate\"))\n",
    "    .distinct()\n",
    "    .orderBy(year(\"IncidentDate\"))\n",
    "    .show()\n",
    ")"
   ]
  },
  {
   "cell_type": "markdown",
   "id": "1ebf0412-18c2-4a59-84d1-626196330b94",
   "metadata": {},
   "source": [
    "# Aggregations"
   ]
  },
  {
   "cell_type": "code",
   "execution_count": 18,
   "id": "f654d4d5-43c1-47b7-bacb-b0d98f770185",
   "metadata": {},
   "outputs": [
    {
     "name": "stdout",
     "output_type": "stream",
     "text": [
      "+-------------------------------+------+\n",
      "|CallType                       |count |\n",
      "+-------------------------------+------+\n",
      "|Medical Incident               |113794|\n",
      "|Structure Fire                 |23319 |\n",
      "|Alarms                         |19406 |\n",
      "|Traffic Collision              |7013  |\n",
      "|Citizen Assist / Service Call  |2524  |\n",
      "|Other                          |2166  |\n",
      "|Outside Fire                   |2094  |\n",
      "|Vehicle Fire                   |854   |\n",
      "|Gas Leak (Natural and LP Gases)|764   |\n",
      "|Water Rescue                   |755   |\n",
      "|Odor (Strange / Unknown)       |490   |\n",
      "|Electrical Hazard              |482   |\n",
      "|Elevator / Escalator Rescue    |453   |\n",
      "|Smoke Investigation (Outside)  |391   |\n",
      "|Fuel Spill                     |193   |\n",
      "|HazMat                         |124   |\n",
      "|Industrial Accidents           |94    |\n",
      "|Explosion                      |89    |\n",
      "|Train / Rail Incident          |57    |\n",
      "|Aircraft Emergency             |36    |\n",
      "+-------------------------------+------+\n",
      "only showing top 20 rows\n",
      "\n"
     ]
    }
   ],
   "source": [
    "(\n",
    "    fire_ts_df\n",
    "    .select(\"CallType\")\n",
    "    .where(col(\"CallType\").isNotNull())\n",
    "    .groupBy(\"CallType\")\n",
    "    .count()\n",
    "    .orderBy(\"count\", ascending=False)\n",
    "    .show(truncate=False)\n",
    ")"
   ]
  },
  {
   "cell_type": "code",
   "execution_count": 19,
   "id": "dc76e2a1-194f-41e9-8060-b9675146dbcb",
   "metadata": {},
   "outputs": [
    {
     "name": "stdout",
     "output_type": "stream",
     "text": [
      "+--------------+--------------------------+--------------------------+--------------------------+\n",
      "|sum(NumAlarms)|avg(ResponseDelayedinMins)|min(ResponseDelayedinMins)|max(ResponseDelayedinMins)|\n",
      "+--------------+--------------------------+--------------------------+--------------------------+\n",
      "|        176170|         3.892364154521585|               0.016666668|                   1844.55|\n",
      "+--------------+--------------------------+--------------------------+--------------------------+\n",
      "\n"
     ]
    }
   ],
   "source": [
    "(\n",
    "    fire_ts_df\n",
    "    .select(\n",
    "        sum(\"NumAlarms\"),\n",
    "        avg(\"ResponseDelayedinMins\"),\n",
    "        min(\"ResponseDelayedinMins\"),\n",
    "        max(\"ResponseDelayedinMins\")\n",
    "    )\n",
    "    .show()\n",
    ")"
   ]
  },
  {
   "cell_type": "code",
   "execution_count": 23,
   "id": "38ca9ae5-7ade-450b-90ce-0a45178bc49d",
   "metadata": {},
   "outputs": [],
   "source": [
    "spark.stop()"
   ]
  },
  {
   "cell_type": "code",
   "execution_count": null,
   "id": "f442cf8c-e4cb-49cd-a112-3c50976a26b1",
   "metadata": {},
   "outputs": [],
   "source": []
  }
 ],
 "metadata": {
  "kernelspec": {
   "display_name": "Python 3 (ipykernel)",
   "language": "python",
   "name": "python3"
  },
  "language_info": {
   "codemirror_mode": {
    "name": "ipython",
    "version": 3
   },
   "file_extension": ".py",
   "mimetype": "text/x-python",
   "name": "python",
   "nbconvert_exporter": "python",
   "pygments_lexer": "ipython3",
   "version": "3.10.12"
  }
 },
 "nbformat": 4,
 "nbformat_minor": 5
}
