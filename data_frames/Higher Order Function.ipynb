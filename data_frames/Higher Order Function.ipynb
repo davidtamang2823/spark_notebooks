{
 "cells": [
  {
   "cell_type": "code",
   "execution_count": 1,
   "id": "5e894991-55b2-40d3-9b4a-c7c79a0c6327",
   "metadata": {},
   "outputs": [],
   "source": [
    "from pyspark.sql import SparkSession"
   ]
  },
  {
   "cell_type": "code",
   "execution_count": 2,
   "id": "a52dc6e6-b4ad-4d7d-881e-dabff6ef6da5",
   "metadata": {},
   "outputs": [
    {
     "name": "stderr",
     "output_type": "stream",
     "text": [
      "25/06/25 09:52:53 WARN Utils: Your hostname, pop-os resolves to a loopback address: 127.0.1.1; using 192.168.1.74 instead (on interface wlp3s0)\n",
      "25/06/25 09:52:53 WARN Utils: Set SPARK_LOCAL_IP if you need to bind to another address\n",
      "Setting default log level to \"WARN\".\n",
      "To adjust logging level use sc.setLogLevel(newLevel). For SparkR, use setLogLevel(newLevel).\n",
      "25/06/25 09:52:53 WARN NativeCodeLoader: Unable to load native-hadoop library for your platform... using builtin-java classes where applicable\n"
     ]
    }
   ],
   "source": [
    "spark = SparkSession.builder.appName(\"spark\").getOrCreate()"
   ]
  },
  {
   "cell_type": "code",
   "execution_count": 5,
   "id": "32cfc193-8705-4ab2-aa70-7f9720503e3b",
   "metadata": {},
   "outputs": [],
   "source": [
    "from pyspark.sql.functions import *\n",
    "from pyspark.sql.types import *"
   ]
  },
  {
   "cell_type": "code",
   "execution_count": 7,
   "id": "fd0ec43d-aedb-49bb-b94f-2043f35d6392",
   "metadata": {},
   "outputs": [],
   "source": [
    "schema = StructType(\n",
    "    [\n",
    "        StructField(\"dc_id\", StringType(), True),\n",
    "        StructField(\n",
    "            \"source\",\n",
    "            MapType(\n",
    "                StringType(),\n",
    "                StructType(\n",
    "                    [\n",
    "                        StructField(\"description\", StringType(), True),\n",
    "                        StructField(\"ip\", StringType(), True),\n",
    "                        StructField(\"id\", StringType(), True),\n",
    "                        StructField(\"temp\", ArrayType(IntegerType()), True),\n",
    "                        StructField(\"c02_level\", ArrayType(IntegerType()), True),\n",
    "                        StructField(\n",
    "                            \"geo\", \n",
    "                            StructType(\n",
    "                                [\n",
    "                                    StructField(\"lat\", DoubleType(), True),\n",
    "                                    StructField(\"long\", DoubleType(), True)\n",
    "                                ]                            \n",
    "                            ), \n",
    "                            True\n",
    "                        )\n",
    "                    ]\n",
    "                ),\n",
    "                True\n",
    "            ),\n",
    "            True\n",
    "        )\n",
    "    ]\n",
    ")"
   ]
  },
  {
   "cell_type": "code",
   "execution_count": 18,
   "id": "a38b6c91-b024-4cf5-9b76-2b6d907ada6f",
   "metadata": {},
   "outputs": [],
   "source": [
    "data =[\n",
    "    {\n",
    "        \n",
    "        \"dc_id\": \"dc-101\",\n",
    "        \"source\": {\n",
    "          \"sensor-igauge\": {\n",
    "            \"id\": 10,\n",
    "            \"ip\": \"68.28.91.22\",\n",
    "            \"description\": \"Sensor attached to the container ceilings\",\n",
    "            \"temp\":[35,35,35,36,35,35,32,35,30,35,32,35],\n",
    "            \"c02_level\": [1475,1476,1473],\n",
    "            \"geo\": {\"lat\":38.00, \"long\":97.00}                        \n",
    "          },\n",
    "          \"sensor-ipad\": {\n",
    "            \"id\": 13,\n",
    "            \"ip\": \"67.185.72.1\",\n",
    "            \"description\": \"Sensor ipad attached to carbon cylinders\",\n",
    "            \"temp\": [45,45,45,46,45,45,42,35,40,45,42,45],\n",
    "            \"c02_level\": [1370,1371,1372],\n",
    "            \"geo\": {\"lat\":47.41, \"long\":-122.00}\n",
    "          },\n",
    "          \"sensor-inest\": {\n",
    "            \"id\": 8,\n",
    "            \"ip\": \"208.109.163.218\",\n",
    "            \"description\": \"Sensor attached to the factory ceilings\",\n",
    "            \"temp\": [40,40,40,40,40,43,42,40,40,45,42,45],\n",
    "            \"c02_level\": [1346,1345, 1343],\n",
    "            \"geo\": {\"lat\":33.61, \"long\":-111.89}\n",
    "          },\n",
    "          \"sensor-istick\": {\n",
    "            \"id\": 5,\n",
    "            \"ip\": \"204.116.105.67\",\n",
    "            \"description\": \"Sensor embedded in exhaust pipes in the ceilings\",\n",
    "            \"temp\":[30,30,30,30,40,43,42,40,40,35,42,35],\n",
    "            \"c02_level\": [1574,1570, 1576],\n",
    "            \"geo\": {\"lat\":35.93, \"long\":-85.46}\n",
    "          }\n",
    "        }\n",
    "    }\n",
    "]\n"
   ]
  },
  {
   "cell_type": "code",
   "execution_count": 15,
   "id": "43f76cd9-9ae2-4e13-ae0b-80a14ccb9512",
   "metadata": {},
   "outputs": [],
   "source": [
    "df = spark.createDataFrame(data, schema=schema)"
   ]
  },
  {
   "cell_type": "code",
   "execution_count": 19,
   "id": "1a67ad2d-c00b-4660-b21e-df3047af1cd8",
   "metadata": {},
   "outputs": [
    {
     "name": "stdout",
     "output_type": "stream",
     "text": [
      "root\n",
      " |-- dc_id: string (nullable = true)\n",
      " |-- source: map (nullable = true)\n",
      " |    |-- key: string\n",
      " |    |-- value: struct (valueContainsNull = true)\n",
      " |    |    |-- description: string (nullable = true)\n",
      " |    |    |-- ip: string (nullable = true)\n",
      " |    |    |-- id: string (nullable = true)\n",
      " |    |    |-- temp: array (nullable = true)\n",
      " |    |    |    |-- element: integer (containsNull = true)\n",
      " |    |    |-- c02_level: array (nullable = true)\n",
      " |    |    |    |-- element: integer (containsNull = true)\n",
      " |    |    |-- geo: struct (nullable = true)\n",
      " |    |    |    |-- lat: double (nullable = true)\n",
      " |    |    |    |-- long: double (nullable = true)\n",
      "\n"
     ]
    }
   ],
   "source": [
    "df.printSchema()"
   ]
  },
  {
   "cell_type": "code",
   "execution_count": 20,
   "id": "7967055e-1893-4864-b87e-20e7430e3713",
   "metadata": {},
   "outputs": [],
   "source": [
    "df = df.select(\"dc_id\", explode(\"source\"))"
   ]
  },
  {
   "cell_type": "code",
   "execution_count": 23,
   "id": "d32da16f-5b0a-4bdd-b105-2bf48785c2df",
   "metadata": {},
   "outputs": [
    {
     "name": "stdout",
     "output_type": "stream",
     "text": [
      "+------+-------------+--------------------+\n",
      "| dc_id|          key|               value|\n",
      "+------+-------------+--------------------+\n",
      "|dc-101|  sensor-ipad|{Sensor ipad atta...|\n",
      "|dc-101| sensor-inest|{Sensor attached ...|\n",
      "|dc-101|sensor-istick|{Sensor embedded ...|\n",
      "|dc-101|sensor-igauge|{Sensor attached ...|\n",
      "+------+-------------+--------------------+\n",
      "\n"
     ]
    }
   ],
   "source": [
    "df.show()"
   ]
  },
  {
   "cell_type": "code",
   "execution_count": 24,
   "id": "1b6d2c1a-7b38-4ab8-9887-71c91c431b12",
   "metadata": {},
   "outputs": [
    {
     "name": "stdout",
     "output_type": "stream",
     "text": [
      "+------+---------------+---------+------------------+--------------------+\n",
      "| dc_id|             ip|device_id|        c02_levels|                temp|\n",
      "+------+---------------+---------+------------------+--------------------+\n",
      "|dc-101|    67.185.72.1|       13|[1370, 1371, 1372]|[45, 45, 45, 46, ...|\n",
      "|dc-101|208.109.163.218|        8|[1346, 1345, 1343]|[40, 40, 40, 40, ...|\n",
      "|dc-101| 204.116.105.67|        5|[1574, 1570, 1576]|[30, 30, 30, 30, ...|\n",
      "|dc-101|    68.28.91.22|       10|[1475, 1476, 1473]|[35, 35, 35, 36, ...|\n",
      "+------+---------------+---------+------------------+--------------------+\n",
      "\n"
     ]
    }
   ],
   "source": [
    "df = (\n",
    "    df\n",
    "    .select(\n",
    "        \"dc_id\", \n",
    "        \"value.ip\", \n",
    "        col(\"value.id\").alias(\"device_id\"), \n",
    "        col(\"value.c02_level\").alias(\"c02_levels\"),\n",
    "        \"value.temp\"\n",
    "    )\n",
    "    .show()\n",
    ")"
   ]
  },
  {
   "cell_type": "code",
   "execution_count": null,
   "id": "b6475719-9890-4f2b-9947-ac804254f31d",
   "metadata": {},
   "outputs": [],
   "source": []
  }
 ],
 "metadata": {
  "kernelspec": {
   "display_name": "Python 3 (ipykernel)",
   "language": "python",
   "name": "python3"
  },
  "language_info": {
   "codemirror_mode": {
    "name": "ipython",
    "version": 3
   },
   "file_extension": ".py",
   "mimetype": "text/x-python",
   "name": "python",
   "nbconvert_exporter": "python",
   "pygments_lexer": "ipython3",
   "version": "3.10.12"
  }
 },
 "nbformat": 4,
 "nbformat_minor": 5
}
