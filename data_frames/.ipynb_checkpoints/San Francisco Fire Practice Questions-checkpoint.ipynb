{
 "cells": [
  {
   "cell_type": "code",
   "execution_count": 1,
   "id": "216595c0-dbdc-43b3-92bc-cca7ba49d1bb",
   "metadata": {},
   "outputs": [],
   "source": [
    "from pyspark.sql import SparkSession"
   ]
  },
  {
   "cell_type": "code",
   "execution_count": 2,
   "id": "a1e0ed9b-1e78-4305-a197-619b8a21836e",
   "metadata": {},
   "outputs": [
    {
     "name": "stderr",
     "output_type": "stream",
     "text": [
      "25/06/24 09:49:35 WARN Utils: Your hostname, pop-os resolves to a loopback address: 127.0.1.1; using 192.168.1.74 instead (on interface wlp3s0)\n",
      "25/06/24 09:49:35 WARN Utils: Set SPARK_LOCAL_IP if you need to bind to another address\n",
      "Setting default log level to \"WARN\".\n",
      "To adjust logging level use sc.setLogLevel(newLevel). For SparkR, use setLogLevel(newLevel).\n",
      "25/06/24 09:49:36 WARN NativeCodeLoader: Unable to load native-hadoop library for your platform... using builtin-java classes where applicable\n"
     ]
    }
   ],
   "source": [
    "spark = SparkSession.builder.appName(\"Spark\").getOrCreate()"
   ]
  },
  {
   "cell_type": "code",
   "execution_count": 3,
   "id": "d20a44ae-ffcb-412a-9dac-c1275cacf65e",
   "metadata": {},
   "outputs": [],
   "source": [
    "from pyspark.sql.types import *\n",
    "from pyspark.sql.functions import *"
   ]
  },
  {
   "cell_type": "code",
   "execution_count": 4,
   "id": "21c731d8-1d45-43d9-ad21-01a2e63be826",
   "metadata": {},
   "outputs": [],
   "source": [
    "schema = StructType(\n",
    "    [\n",
    "        StructField(\"CallNumber\", IntegerType(), True),\n",
    "        StructField(\"UnitID\", StringType(), True),\n",
    "        StructField(\"IncidentNumber\", IntegerType(), True),\n",
    "        StructField(\"CallType\", StringType(), True),\n",
    "        StructField(\"CallDate\", StringType(), True),\n",
    "        StructField(\"WatchDate\", StringType(), True),\n",
    "        StructField(\"CallFinalDisposition\", StringType(), True),\n",
    "        StructField(\"AvailableDtTm\", StringType(), True),\n",
    "        StructField(\"Address\", StringType(), True),\n",
    "        StructField(\"City\", StringType(), True),\n",
    "        StructField(\"Zipcode\", IntegerType(), True),\n",
    "        StructField(\"Battalion\", StringType(), True),\n",
    "        StructField(\"StationArea\", IntegerType(), True),\n",
    "        StructField(\"Box\", IntegerType(), True),\n",
    "        StructField(\"OriginalPriority\", IntegerType(), True),\n",
    "        StructField(\"Priority\", IntegerType(), True),\n",
    "        StructField(\"FinalPriority\", IntegerType(), True),\n",
    "        StructField(\"ALSUnit\", BooleanType(), True),\n",
    "        StructField(\"CallTypeGroup\", StringType(), True),\n",
    "        StructField(\"NumAlarms\", IntegerType(), True),\n",
    "        StructField(\"UnitType\", StringType(), True),\n",
    "        StructField(\"UnitSequenceInCallDispatch\", IntegerType(), True),\n",
    "        StructField(\"FirePreventionDistrict\", IntegerType(), True),\n",
    "        StructField(\"SupervisorDistrict\", IntegerType(), True),\n",
    "        StructField(\"Neighborhood\", StringType(), True),\n",
    "        StructField(\"Location\", StringType(), True),\n",
    "        StructField(\"RowID\", StringType(), True),\n",
    "        StructField(\"Delay\", FloatType(), True),\n",
    "    ]\n",
    ")"
   ]
  },
  {
   "cell_type": "code",
   "execution_count": 5,
   "id": "2b16bb75-672a-47e8-8d6f-d141489e437b",
   "metadata": {},
   "outputs": [],
   "source": [
    "sf_fc_df = spark.read.csv(path=\"sf-fire-calls.csv\", schema=schema, header=True)"
   ]
  },
  {
   "cell_type": "code",
   "execution_count": 6,
   "id": "e367d934-52b5-4949-8eaa-37ef84f93df8",
   "metadata": {},
   "outputs": [
    {
     "name": "stderr",
     "output_type": "stream",
     "text": [
      "25/06/24 09:49:39 WARN SparkStringUtils: Truncated the string representation of a plan since it was too large. This behavior can be adjusted by setting 'spark.sql.debug.maxToStringFields'.\n"
     ]
    },
    {
     "name": "stdout",
     "output_type": "stream",
     "text": [
      "-RECORD 0------------------------------------------\n",
      " CallNumber                 | 20110016             \n",
      " UnitID                     | T13                  \n",
      " IncidentNumber             | 2003235              \n",
      " CallType                   | Structure Fire       \n",
      " CallDate                   | 01/11/2002           \n",
      " WatchDate                  | 01/10/2002           \n",
      " CallFinalDisposition       | Other                \n",
      " AvailableDtTm              | 01/11/2002 01:51:... \n",
      " Address                    | 2000 Block of CAL... \n",
      " City                       | SF                   \n",
      " Zipcode                    | 94109                \n",
      " Battalion                  | B04                  \n",
      " StationArea                | 38                   \n",
      " Box                        | 3362                 \n",
      " OriginalPriority           | 3                    \n",
      " Priority                   | 3                    \n",
      " FinalPriority              | 3                    \n",
      " ALSUnit                    | false                \n",
      " CallTypeGroup              | NULL                 \n",
      " NumAlarms                  | 1                    \n",
      " UnitType                   | TRUCK                \n",
      " UnitSequenceInCallDispatch | 2                    \n",
      " FirePreventionDistrict     | 4                    \n",
      " SupervisorDistrict         | 5                    \n",
      " Neighborhood               | Pacific Heights      \n",
      " Location                   | (37.7895840679362... \n",
      " RowID                      | 020110016-T13        \n",
      " Delay                      | 2.95                 \n",
      "only showing top 1 row\n",
      "\n"
     ]
    }
   ],
   "source": [
    "sf_fc_df.show(n=1, vertical=True)"
   ]
  },
  {
   "cell_type": "code",
   "execution_count": 7,
   "id": "02d4d31f-eea7-47f7-ab0e-e02681f34de9",
   "metadata": {},
   "outputs": [
    {
     "data": {
      "text/plain": [
       "['CallNumber',\n",
       " 'UnitID',\n",
       " 'IncidentNumber',\n",
       " 'CallType',\n",
       " 'CallDate',\n",
       " 'WatchDate',\n",
       " 'CallFinalDisposition',\n",
       " 'AvailableDtTm',\n",
       " 'Address',\n",
       " 'City',\n",
       " 'Zipcode',\n",
       " 'Battalion',\n",
       " 'StationArea',\n",
       " 'Box',\n",
       " 'OriginalPriority',\n",
       " 'Priority',\n",
       " 'FinalPriority',\n",
       " 'ALSUnit',\n",
       " 'CallTypeGroup',\n",
       " 'NumAlarms',\n",
       " 'UnitType',\n",
       " 'UnitSequenceInCallDispatch',\n",
       " 'FirePreventionDistrict',\n",
       " 'SupervisorDistrict',\n",
       " 'Neighborhood',\n",
       " 'Location',\n",
       " 'RowID',\n",
       " 'Delay']"
      ]
     },
     "execution_count": 7,
     "metadata": {},
     "output_type": "execute_result"
    }
   ],
   "source": [
    "sf_fc_df.columns"
   ]
  },
  {
   "cell_type": "code",
   "execution_count": 8,
   "id": "c41f3008-af6e-4829-9c7c-6fbd490756e7",
   "metadata": {},
   "outputs": [],
   "source": [
    "sf_fc_df = (\n",
    "    sf_fc_df\n",
    "    .withColumn(\"IncidentDate\", to_timestamp(col(\"CallDate\"), \"MM/dd/yyyy\"))\n",
    "    .drop(\"CallDate\")\n",
    "    .withColumn(\"OnWatchDate\", to_timestamp(col(\"WatchDate\"), \"MM/dd/yyyy\"))\n",
    "    .drop(\"WatchDate\")\n",
    "    .withColumn(\"AvailableDtTS\", to_timestamp(col(\"AvailableDtTm\"), \"MM/dd/yyyy hh:mm:ss a\"))\n",
    "    .drop(\"AvailableDtTm\")\n",
    ")"
   ]
  },
  {
   "cell_type": "code",
   "execution_count": 9,
   "id": "28fd5a2f-c2cd-4777-bf08-877dcb21bccb",
   "metadata": {},
   "outputs": [
    {
     "name": "stdout",
     "output_type": "stream",
     "text": [
      "-RECORD 0------------------------------------------\n",
      " CallNumber                 | 20110016             \n",
      " UnitID                     | T13                  \n",
      " IncidentNumber             | 2003235              \n",
      " CallType                   | Structure Fire       \n",
      " CallFinalDisposition       | Other                \n",
      " Address                    | 2000 Block of CAL... \n",
      " City                       | SF                   \n",
      " Zipcode                    | 94109                \n",
      " Battalion                  | B04                  \n",
      " StationArea                | 38                   \n",
      " Box                        | 3362                 \n",
      " OriginalPriority           | 3                    \n",
      " Priority                   | 3                    \n",
      " FinalPriority              | 3                    \n",
      " ALSUnit                    | false                \n",
      " CallTypeGroup              | NULL                 \n",
      " NumAlarms                  | 1                    \n",
      " UnitType                   | TRUCK                \n",
      " UnitSequenceInCallDispatch | 2                    \n",
      " FirePreventionDistrict     | 4                    \n",
      " SupervisorDistrict         | 5                    \n",
      " Neighborhood               | Pacific Heights      \n",
      " Location                   | (37.7895840679362... \n",
      " RowID                      | 020110016-T13        \n",
      " Delay                      | 2.95                 \n",
      " IncidentDate               | 2002-01-11 00:00:00  \n",
      " OnWatchDate                | 2002-01-10 00:00:00  \n",
      " AvailableDtTS              | 2002-01-11 01:51:44  \n",
      "only showing top 1 row\n",
      "\n"
     ]
    }
   ],
   "source": [
    "sf_fc_df.show(n=1, vertical=True)"
   ]
  },
  {
   "cell_type": "markdown",
   "id": "e8c71da8-1d4a-43d3-8784-8731be8eb24c",
   "metadata": {},
   "source": [
    "# What were all the different types of fire calls in 2018?"
   ]
  },
  {
   "cell_type": "code",
   "execution_count": 10,
   "id": "b830895a-e6ee-47d4-9957-822cc5c2deae",
   "metadata": {},
   "outputs": [
    {
     "name": "stderr",
     "output_type": "stream",
     "text": [
      "[Stage 2:==========================>                               (5 + 6) / 11]"
     ]
    },
    {
     "name": "stdout",
     "output_type": "stream",
     "text": [
      "+-------------------------------+\n",
      "|CallType                       |\n",
      "+-------------------------------+\n",
      "|Elevator / Escalator Rescue    |\n",
      "|Alarms                         |\n",
      "|Odor (Strange / Unknown)       |\n",
      "|Citizen Assist / Service Call  |\n",
      "|HazMat                         |\n",
      "|Vehicle Fire                   |\n",
      "|Other                          |\n",
      "|Outside Fire                   |\n",
      "|Traffic Collision              |\n",
      "|Assist Police                  |\n",
      "|Gas Leak (Natural and LP Gases)|\n",
      "|Water Rescue                   |\n",
      "|Electrical Hazard              |\n",
      "|Structure Fire                 |\n",
      "|Medical Incident               |\n",
      "|Fuel Spill                     |\n",
      "|Smoke Investigation (Outside)  |\n",
      "|Train / Rail Incident          |\n",
      "|Explosion                      |\n",
      "|Suspicious Package             |\n",
      "+-------------------------------+\n",
      "\n"
     ]
    },
    {
     "name": "stderr",
     "output_type": "stream",
     "text": [
      "                                                                                "
     ]
    }
   ],
   "source": [
    "(\n",
    "    sf_fc_df\n",
    "    .select(\"CallType\")\n",
    "    .where(year(\"IncidentDate\") == 2018)\n",
    "    .distinct()\n",
    "    .show(truncate=False)\n",
    ")"
   ]
  },
  {
   "cell_type": "markdown",
   "id": "b2a39154-ec9f-41bd-801e-0415149fac9f",
   "metadata": {},
   "source": [
    "# What months within the year 2018 saw the highest number of fire calls?"
   ]
  },
  {
   "cell_type": "code",
   "execution_count": 11,
   "id": "c4556eb5-9bc7-4092-9c64-8e0275f204ad",
   "metadata": {},
   "outputs": [
    {
     "name": "stdout",
     "output_type": "stream",
     "text": [
      "+-----+-----+\n",
      "|month|count|\n",
      "+-----+-----+\n",
      "|   10| 1068|\n",
      "|    5| 1047|\n",
      "|    3| 1029|\n",
      "|    8| 1021|\n",
      "|    1| 1007|\n",
      "|    6|  974|\n",
      "|    7|  974|\n",
      "|    9|  951|\n",
      "|    4|  947|\n",
      "|    2|  919|\n",
      "|   11|  199|\n",
      "+-----+-----+\n",
      "\n"
     ]
    }
   ],
   "source": [
    "(\n",
    "    sf_fc_df\n",
    "    .select(month(\"IncidentDate\").alias('month'))\n",
    "    .where(year('IncidentDate') == 2018)\n",
    "    .groupBy('month')\n",
    "    .count()\n",
    "    .orderBy(desc('count'))\n",
    "    .show()\n",
    ")"
   ]
  },
  {
   "cell_type": "markdown",
   "id": "027f0bb9-da3f-42fe-9c78-5a1134ad358a",
   "metadata": {},
   "source": [
    "# Which neighborhood in San Francisco generated the most fire calls in 2013?"
   ]
  },
  {
   "cell_type": "code",
   "execution_count": 36,
   "id": "72c7651e-3c25-418e-8eed-ace0c54681af",
   "metadata": {},
   "outputs": [
    {
     "name": "stdout",
     "output_type": "stream",
     "text": [
      "+------------+-----+\n",
      "|Neighborhood|count|\n",
      "+------------+-----+\n",
      "|  Tenderloin| 1385|\n",
      "+------------+-----+\n",
      "only showing top 1 row\n",
      "\n"
     ]
    }
   ],
   "source": [
    "(\n",
    "    sf_fc_df\n",
    "    .select(\"Neighborhood\")\n",
    "    .where((col(\"City\")==\"SF\") & (year(\"IncidentDate\") == 2013))\n",
    "    .groupBy(\"Neighborhood\")\n",
    "    .count()\n",
    "    .orderBy(desc(\"count\"))\n",
    "    .show(n=1)\n",
    ")"
   ]
  },
  {
   "cell_type": "markdown",
   "id": "db1514b9-2eb3-4952-a788-0c1ff21e0d8b",
   "metadata": {},
   "source": [
    "# Which neighborhoods had the worst response times to fire calls in 2018?"
   ]
  },
  {
   "cell_type": "code",
   "execution_count": 37,
   "id": "96e20d81-c4fc-4c21-960d-c019a3740000",
   "metadata": {},
   "outputs": [
    {
     "name": "stdout",
     "output_type": "stream",
     "text": [
      "+-------------+------------------------------+------------+\n",
      "|City         |Neighborhood                  |ResponseTime|\n",
      "+-------------+------------------------------+------------+\n",
      "|San Francisco|Chinatown                     |491.26666   |\n",
      "|San Francisco|Financial District/South Beach|406.63333   |\n",
      "|San Francisco|Tenderloin                    |340.48334   |\n",
      "|San Francisco|Haight Ashbury                |175.86667   |\n",
      "|San Francisco|Bayview Hunters Point         |155.8       |\n",
      "|San Francisco|Pacific Heights               |129.01666   |\n",
      "|San Francisco|Potrero Hill                  |109.8       |\n",
      "|San Francisco|Inner Sunset                  |106.13333   |\n",
      "|San Francisco|South of Market               |94.71667    |\n",
      "|San Francisco|Inner Richmond                |90.433334   |\n",
      "|San Francisco|Excelsior                     |83.76667    |\n",
      "|San Francisco|Castro/Upper Market           |74.13333    |\n",
      "|San Francisco|Western Addition              |67.916664   |\n",
      "|San Francisco|Nob Hill                      |67.45       |\n",
      "|San Francisco|Mission                       |54.666668   |\n",
      "|San Francisco|Presidio Heights              |52.883335   |\n",
      "|San Francisco|Outer Mission                 |43.383335   |\n",
      "|San Francisco|West of Twin Peaks            |43.2        |\n",
      "|San Francisco|North Beach                   |40.933334   |\n",
      "|San Francisco|Presidio                      |38.816666   |\n",
      "|Presidio     |Presidio                      |38.05       |\n",
      "|San Francisco|Lone Mountain/USF             |36.483334   |\n",
      "|San Francisco|Mission Bay                   |34.233334   |\n",
      "|Treasure Isla|Treasure Island               |31.25       |\n",
      "|San Francisco|Golden Gate Park              |31.183332   |\n",
      "|San Francisco|Bernal Heights                |31.1        |\n",
      "|San Francisco|Hayes Valley                  |30.016666   |\n",
      "|San Francisco|Oceanview/Merced/Ingleside    |27.383333   |\n",
      "|San Francisco|Treasure Island               |27.15       |\n",
      "|San Francisco|Sunset/Parkside               |27.016666   |\n",
      "|San Francisco|Lakeshore                     |26.85       |\n",
      "|San Francisco|Russian Hill                  |26.15       |\n",
      "|San Francisco|Marina                        |25.616667   |\n",
      "|San Francisco|Outer Richmond                |24.433332   |\n",
      "|San Francisco|Seacliff                      |23.583334   |\n",
      "|San Francisco|Noe Valley                    |19.233334   |\n",
      "|Presidio     |Chinatown                     |16.166666   |\n",
      "|San Francisco|McLaren Park                  |14.583333   |\n",
      "|San Francisco|Portola                       |13.0        |\n",
      "|San Francisco|Visitacion Valley             |11.883333   |\n",
      "|San Francisco|Japantown                     |10.916667   |\n",
      "|Yerba Buena  |Treasure Island               |10.566667   |\n",
      "|San Francisco|Glen Park                     |9.65        |\n",
      "|NULL         |Financial District/South Beach|9.65        |\n",
      "|San Francisco|Twin Peaks                    |9.516666    |\n",
      "|Fort Mason   |Hayes Valley                  |8.8         |\n",
      "|Presidio     |Financial District/South Beach|8.233334    |\n",
      "|Fort Mason   |Marina                        |6.766667    |\n",
      "|Presidio     |Inner Richmond                |5.85        |\n",
      "|San Francisco|Lincoln Park                  |5.8166666   |\n",
      "|Hunters Point|Bayview Hunters Point         |5.8         |\n",
      "|Daly City    |Oceanview/Merced/Ingleside    |5.633333    |\n",
      "|NULL         |Nob Hill                      |5.383333    |\n",
      "|NULL         |Potrero Hill                  |5.266667    |\n",
      "|NULL         |South of Market               |4.5         |\n",
      "|Yerba Buena  |North Beach                   |4.4666667   |\n",
      "|Presidio     |Nob Hill                      |4.4333334   |\n",
      "|Yerba Buena  |Financial District/South Beach|4.4166665   |\n",
      "|NULL         |Sunset/Parkside               |4.266667    |\n",
      "|Brisbane     |None                          |4.1833334   |\n",
      "|NULL         |Western Addition              |3.9333334   |\n",
      "|San Francisco|None                          |3.6166666   |\n",
      "|NULL         |Lakeshore                     |3.1         |\n",
      "|NULL         |Mission Bay                   |3.0333333   |\n",
      "|NULL         |North Beach                   |2.6666667   |\n",
      "|NULL         |Hayes Valley                  |2.0333333   |\n",
      "|NULL         |Golden Gate Park              |1.7666667   |\n",
      "|NULL         |Mission                       |1.75        |\n",
      "|NULL         |Treasure Island               |1.65        |\n",
      "|NULL         |Marina                        |1.5833334   |\n",
      "|Treasure Isla|Inner Richmond                |1.05        |\n",
      "+-------------+------------------------------+------------+\n",
      "\n"
     ]
    }
   ],
   "source": [
    "(\n",
    "    sf_fc_df\n",
    "    .select(\"City\", \"Neighborhood\", \"Delay\")\n",
    "    .where(year(\"IncidentDate\") == 2018)\n",
    "    .groupBy(\"City\", \"Neighborhood\")\n",
    "    .agg(max(\"Delay\").alias(\"ResponseTime\"))\n",
    "    .orderBy(desc(\"ResponseTime\"))\n",
    "    .show(n=100, truncate=False)\n",
    ")"
   ]
  },
  {
   "cell_type": "markdown",
   "id": "d7adc593-b761-4694-8c2b-c866207101f6",
   "metadata": {},
   "source": [
    "# Which week in the year in 2018 had the most fire calls?"
   ]
  },
  {
   "cell_type": "code",
   "execution_count": 34,
   "id": "485b70ff-d862-40a3-b5f8-aefc71416d48",
   "metadata": {},
   "outputs": [
    {
     "name": "stdout",
     "output_type": "stream",
     "text": [
      "+----+-----+\n",
      "|Week|count|\n",
      "+----+-----+\n",
      "|  22|  259|\n",
      "|  40|  255|\n",
      "|  43|  250|\n",
      "|  25|  249|\n",
      "|   1|  246|\n",
      "|  44|  244|\n",
      "|  13|  243|\n",
      "|  32|  243|\n",
      "|  11|  240|\n",
      "|   5|  236|\n",
      "|  18|  236|\n",
      "|  23|  235|\n",
      "|  31|  234|\n",
      "|  42|  234|\n",
      "|   2|  234|\n",
      "|  19|  233|\n",
      "|   8|  232|\n",
      "|  34|  232|\n",
      "|  10|  232|\n",
      "|  28|  231|\n",
      "+----+-----+\n",
      "only showing top 20 rows\n",
      "\n"
     ]
    }
   ],
   "source": [
    "(\n",
    "    sf_fc_df\n",
    "    .withColumn(\"Week\", weekofyear(col(\"IncidentDate\")))\n",
    "    .select(\"Week\")\n",
    "    .where(year(\"IncidentDate\") == 2018)\n",
    "    .groupBy(\"Week\")\n",
    "    .count()\n",
    "    .orderBy(\"Count\", ascending=False)\n",
    "    .show()\n",
    ")"
   ]
  },
  {
   "cell_type": "markdown",
   "id": "22ce0f6d-b807-433d-be94-aa3ff8a7fd53",
   "metadata": {},
   "source": [
    "# Is there a correlation between neighborhood, zip code, and number of fire calls?"
   ]
  },
  {
   "cell_type": "code",
   "execution_count": 40,
   "id": "16f22a11-b705-43c5-9737-aab81ee9593e",
   "metadata": {},
   "outputs": [
    {
     "name": "stdout",
     "output_type": "stream",
     "text": [
      "+-------+--------------------+-----+\n",
      "|ZipCode|        Neighborhood|count|\n",
      "+-------+--------------------+-----+\n",
      "|  94102|          Tenderloin|17084|\n",
      "|  94103|     South of Market|13762|\n",
      "|  94110|             Mission|10444|\n",
      "|  94124|Bayview Hunters P...| 9150|\n",
      "|  94103|             Mission| 5445|\n",
      "|  94109|          Tenderloin| 5377|\n",
      "|  94105|Financial Distric...| 4235|\n",
      "|  94121|      Outer Richmond| 4121|\n",
      "|  94109|            Nob Hill| 3983|\n",
      "|  94114| Castro/Upper Market| 3946|\n",
      "|  94115|    Western Addition| 3934|\n",
      "|  94133|         North Beach| 3706|\n",
      "|  94122|     Sunset/Parkside| 3404|\n",
      "|  94123|              Marina| 3360|\n",
      "|  94112|           Excelsior| 3237|\n",
      "|  94110|      Bernal Heights| 3109|\n",
      "|  94116|     Sunset/Parkside| 3025|\n",
      "|  94102|        Hayes Valley| 2814|\n",
      "|  94132|           Lakeshore| 2658|\n",
      "|  94112|       Outer Mission| 2608|\n",
      "+-------+--------------------+-----+\n",
      "only showing top 20 rows\n",
      "\n"
     ]
    }
   ],
   "source": [
    "(\n",
    "    sf_fc_df\n",
    "    .select(\"ZipCode\", \"Neighborhood\", \"CallType\")\n",
    "    .groupBy(\"ZipCode\", \"Neighborhood\")\n",
    "    .agg(count(\"CallType\").alias(\"count\"))\n",
    "    .orderBy(\"count\", ascending=False)\n",
    "    .show()\n",
    ")"
   ]
  },
  {
   "cell_type": "code",
   "execution_count": null,
   "id": "a43a94b3-d03b-46e6-9a05-7e61976b3fee",
   "metadata": {},
   "outputs": [],
   "source": []
  }
 ],
 "metadata": {
  "kernelspec": {
   "display_name": "Python 3 (ipykernel)",
   "language": "python",
   "name": "python3"
  },
  "language_info": {
   "codemirror_mode": {
    "name": "ipython",
    "version": 3
   },
   "file_extension": ".py",
   "mimetype": "text/x-python",
   "name": "python",
   "nbconvert_exporter": "python",
   "pygments_lexer": "ipython3",
   "version": "3.10.12"
  }
 },
 "nbformat": 4,
 "nbformat_minor": 5
}
