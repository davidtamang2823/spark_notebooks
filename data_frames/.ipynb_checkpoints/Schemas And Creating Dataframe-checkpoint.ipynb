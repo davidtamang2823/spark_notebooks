{
 "cells": [
  {
   "cell_type": "code",
   "execution_count": 17,
   "id": "c07aa65c-cfec-489f-b11d-b100a7912b7b",
   "metadata": {},
   "outputs": [],
   "source": [
    "from pyspark.sql import SparkSession"
   ]
  },
  {
   "cell_type": "code",
   "execution_count": 3,
   "id": "2c29b5a9-1315-4602-a07b-8bab99a44290",
   "metadata": {},
   "outputs": [],
   "source": [
    "from pyspark.sql import Row"
   ]
  },
  {
   "cell_type": "code",
   "execution_count": 18,
   "id": "fb02e255-14ba-4d80-8be2-7d9b05c4e38c",
   "metadata": {},
   "outputs": [],
   "source": [
    "spark = SparkSession.builder.appName('Spark').getOrCreate()"
   ]
  },
  {
   "cell_type": "markdown",
   "id": "c191c791-27ae-4e50-b022-8342c3f8912b",
   "metadata": {},
   "source": [
    "# Create DataFrame."
   ]
  },
  {
   "cell_type": "code",
   "execution_count": 18,
   "id": "a3b0d415-29b4-4f80-9862-02cb07023180",
   "metadata": {},
   "outputs": [],
   "source": [
    "data_df = spark.createDataFrame(\n",
    "    data=[\n",
    "        (\"David\", 20),\n",
    "        (\"Ram\", 31),\n",
    "        (\"Jules\", 30),\n",
    "        (\"Rahul\", 35),\n",
    "        (\"David\", 25)\n",
    "    ],\n",
    "    schema=[\n",
    "        \"name\",\n",
    "        \"age\"\n",
    "    ]\n",
    ")"
   ]
  },
  {
   "cell_type": "code",
   "execution_count": 23,
   "id": "186ad9e7-cc12-43bf-a805-b1e59eaab1fd",
   "metadata": {},
   "outputs": [],
   "source": [
    "data_df = spark.createDataFrame(\n",
    "    data=[\n",
    "        (\"Ravid\", 20),\n",
    "        (\"Ram\", 31),\n",
    "        (\"Jules\", 30),\n",
    "        (\"Rahul\", 35),\n",
    "        (\"Ravid\", 25)\n",
    "    ],\n",
    "    schema=\"name string, age int\"\n",
    ")"
   ]
  },
  {
   "cell_type": "code",
   "execution_count": 33,
   "id": "b3ce756a-aafa-4c6a-8a19-a933261e4669",
   "metadata": {},
   "outputs": [],
   "source": [
    "data_df = spark.createDataFrame(\n",
    "    data=[\n",
    "        Row(name=\"Ravid\", age=20),\n",
    "        Row(name=\"Ram\", age=31),\n",
    "        Row(name=\"Jules\", age=30),\n",
    "        Row(name=\"Rahul\", age=35),\n",
    "        Row(name=\"Ravid\", age=25)\n",
    "    ]\n",
    ")"
   ]
  },
  {
   "cell_type": "markdown",
   "id": "ebaff002-d671-4980-83b2-dd140b314dc8",
   "metadata": {},
   "source": [
    "# Reading File"
   ]
  },
  {
   "cell_type": "code",
   "execution_count": 6,
   "id": "8ea27322-1b07-45d0-9ba8-da63863093c4",
   "metadata": {},
   "outputs": [],
   "source": [
    "data_df = spark.read.csv('fruits_data.csv', header=True)"
   ]
  },
  {
   "cell_type": "markdown",
   "id": "aab0953e-eece-463e-a7a3-8bb843c98f86",
   "metadata": {},
   "source": [
    "# Viewing Data"
   ]
  },
  {
   "cell_type": "code",
   "execution_count": 7,
   "id": "bcc7694a-8e75-4b4e-8f4b-006251284b78",
   "metadata": {},
   "outputs": [
    {
     "name": "stdout",
     "output_type": "stream",
     "text": [
      "+-----+------+---+---+\n",
      "|color| fruit| v1| v2|\n",
      "+-----+------+---+---+\n",
      "|  red|banana|  1| 10|\n",
      "| blue|banana|  2| 20|\n",
      "|  red|carrot|  3| 30|\n",
      "| blue| grape|  4| 40|\n",
      "|  red|carrot|  5| 50|\n",
      "|black|carrot|  6| 60|\n",
      "|  red|banana|  7| 70|\n",
      "|  red| grape|  8| 80|\n",
      "+-----+------+---+---+\n",
      "\n"
     ]
    }
   ],
   "source": [
    "data_df.show()"
   ]
  },
  {
   "cell_type": "code",
   "execution_count": 8,
   "id": "e327543c-db3a-4627-b4c0-cef39c93adac",
   "metadata": {},
   "outputs": [
    {
     "name": "stdout",
     "output_type": "stream",
     "text": [
      "+-----+------+---+---+\n",
      "|color| fruit| v1| v2|\n",
      "+-----+------+---+---+\n",
      "|  red|banana|  1| 10|\n",
      "| blue|banana|  2| 20|\n",
      "+-----+------+---+---+\n",
      "only showing top 2 rows\n",
      "\n"
     ]
    }
   ],
   "source": [
    "data_df.show(n=2)"
   ]
  },
  {
   "cell_type": "code",
   "execution_count": 9,
   "id": "c935fdd1-2cf1-483d-bce2-c4bf993c97e0",
   "metadata": {},
   "outputs": [
    {
     "data": {
      "text/plain": [
       "['color', 'fruit', 'v1', 'v2']"
      ]
     },
     "execution_count": 9,
     "metadata": {},
     "output_type": "execute_result"
    }
   ],
   "source": [
    "data_df.columns"
   ]
  },
  {
   "cell_type": "code",
   "execution_count": 12,
   "id": "6bb3d6eb-b678-4f7e-82bb-e585a7b570fe",
   "metadata": {},
   "outputs": [
    {
     "name": "stdout",
     "output_type": "stream",
     "text": [
      "+-----+------+\n",
      "|color| fruit|\n",
      "+-----+------+\n",
      "|  red|banana|\n",
      "| blue|banana|\n",
      "|  red|carrot|\n",
      "| blue| grape|\n",
      "|  red|carrot|\n",
      "|black|carrot|\n",
      "|  red|banana|\n",
      "|  red| grape|\n",
      "+-----+------+\n",
      "\n"
     ]
    }
   ],
   "source": [
    "data_df.select('color', 'fruit').show()"
   ]
  },
  {
   "cell_type": "markdown",
   "id": "a85b1908-f8d7-4bd2-8ce0-4cfcb8667d3c",
   "metadata": {},
   "source": [
    "# Schemas"
   ]
  },
  {
   "cell_type": "markdown",
   "id": "c7fd5a0a-39ce-46f6-a2b4-ea548a3bb703",
   "metadata": {},
   "source": [
    "A schema in spark defines the column names and associated data types for a DataFrame."
   ]
  },
  {
   "cell_type": "code",
   "execution_count": 19,
   "id": "9997124f-b4b7-47b1-8628-b81f225b6ffd",
   "metadata": {},
   "outputs": [],
   "source": [
    "from pyspark.sql.types import *"
   ]
  },
  {
   "cell_type": "code",
   "execution_count": 20,
   "id": "684824b4-5f14-424b-b667-9b10c5d70017",
   "metadata": {},
   "outputs": [],
   "source": [
    "schema = StructType(\n",
    "    [\n",
    "        StructField(\"author\", StringType(), False),\n",
    "        StructField(\"title\", StringType(), False),\n",
    "        StructField(\"page\", IntegerType(), False)\n",
    "    ]\n",
    ")\n",
    "\n",
    "#DDL\n",
    "\n",
    "schema = \"author STRING, title STRING, page INT\"\n"
   ]
  },
  {
   "cell_type": "code",
   "execution_count": 27,
   "id": "f10faddc-0093-4968-b301-93d70c6e2672",
   "metadata": {},
   "outputs": [],
   "source": [
    "data = [\n",
    "    [1, \"Jules\", \"Damji\", \"https://tinyurl.1\", \"1/4/2016\", 4535, [\"twitter\",\"LinkedIn\"]],\n",
    "    [2, \"Brooke\",\"Wenig\", \"https://tinyurl.2\", \"5/5/2018\", 8908, [\"twitter\",\"LinkedIn\"]],\n",
    "    [3, \"Denny\", \"Lee\", \"https://tinyurl.3\", \"6/7/2019\", 7659, [\"web\",\"twitter\", \"FB\", \"LinkedIn\"]],\n",
    "    [4, \"Tathagata\", \"Das\", \"https://tinyurl.4\", \"5/12/2018\", 10568, [\"twitter\", \"FB\"]],\n",
    "    [5, \"Matei\",\"Zaharia\", \"https://tinyurl.5\", \"5/14/2014\", 40578, [\"web\",\"twitter\", \"FB\", \"LinkedIn\"]],\n",
    "    [6, \"Reynold\", \"Xin\", \"https://tinyurl.6\", \"3/2/2015\", 25568,[\"twitter\", \"LinkedIn\"]]\n",
    "]\n",
    "\n",
    "schema = \"\"\"\n",
    "`Id` INT, \n",
    "`First` STRING, \n",
    "`Last` STRING, \n",
    "`Url` STRING, \n",
    "`Published` STRING, \n",
    "`Hits` INT, \n",
    "`Campaigns` ARRAY<STRING>\n",
    "\"\"\""
   ]
  },
  {
   "cell_type": "code",
   "execution_count": 26,
   "id": "b9160575-4e72-4b82-bdb4-e6f6786ca8eb",
   "metadata": {},
   "outputs": [],
   "source": [
    "data_df = spark.createDataFrame(data=data, schema=schema)"
   ]
  },
  {
   "cell_type": "code",
   "execution_count": 29,
   "id": "f42e5cf0-81a7-41a8-b591-2911a82f16a1",
   "metadata": {},
   "outputs": [],
   "source": [
    "schema = StructType(\n",
    "    [\n",
    "        StructField(\"Id\", IntegerType(), False),\n",
    "        StructField(\"First\", StringType(), False),\n",
    "        StructField(\"Last\", StringType(), False),\n",
    "        StructField(\"Url\", StringType(), False),\n",
    "        StructField(\"Published\", StringType(), False),\n",
    "        StructField(\"Hits\", IntegerType(), False),\n",
    "        StructField(\"Campaigns\", ArrayType(StringType()), False)\n",
    "    ]\n",
    ")"
   ]
  },
  {
   "cell_type": "code",
   "execution_count": 30,
   "id": "66ba1f03-4a2d-43dd-8d76-b58981669d9d",
   "metadata": {},
   "outputs": [],
   "source": [
    "data_df = spark.read.json(\"blogs.json\", schema=schema)"
   ]
  },
  {
   "cell_type": "code",
   "execution_count": 31,
   "id": "16aafefa-edf7-40cc-9a9e-8720dac85f49",
   "metadata": {},
   "outputs": [
    {
     "name": "stdout",
     "output_type": "stream",
     "text": [
      "+---+---------+-------+-----------------+---------+-----+--------------------+\n",
      "| Id|    First|   Last|              Url|Published| Hits|           Campaigns|\n",
      "+---+---------+-------+-----------------+---------+-----+--------------------+\n",
      "|  1|    Jules|  Damji|https://tinyurl.1| 1/4/2016| 4535| [twitter, LinkedIn]|\n",
      "|  2|   Brooke|  Wenig|https://tinyurl.2| 5/5/2018| 8908| [twitter, LinkedIn]|\n",
      "|  3|    Denny|    Lee|https://tinyurl.3| 6/7/2019| 7659|[web, twitter, FB...|\n",
      "|  4|Tathagata|    Das|https://tinyurl.4|5/12/2018|10568|       [twitter, FB]|\n",
      "|  5|    Matei|Zaharia|https://tinyurl.5|5/14/2014|40578|[web, twitter, FB...|\n",
      "|  6|  Reynold|    Xin|https://tinyurl.6| 3/2/2015|25568| [twitter, LinkedIn]|\n",
      "+---+---------+-------+-----------------+---------+-----+--------------------+\n",
      "\n"
     ]
    }
   ],
   "source": [
    "data_df.show()"
   ]
  },
  {
   "cell_type": "code",
   "execution_count": 23,
   "id": "fc32ce67-8406-4d45-b86b-e815c146a2e2",
   "metadata": {},
   "outputs": [
    {
     "name": "stdout",
     "output_type": "stream",
     "text": [
      "root\n",
      " |-- Id: integer (nullable = true)\n",
      " |-- First: string (nullable = true)\n",
      " |-- Last: string (nullable = true)\n",
      " |-- Url: string (nullable = true)\n",
      " |-- Published: string (nullable = true)\n",
      " |-- Hits: integer (nullable = true)\n",
      " |-- Campaigns: array (nullable = true)\n",
      " |    |-- element: string (containsNull = true)\n",
      "\n"
     ]
    }
   ],
   "source": [
    "data_df.printSchema()"
   ]
  },
  {
   "cell_type": "code",
   "execution_count": 24,
   "id": "53cfa322-51de-4fba-a2bc-75c814fccc89",
   "metadata": {},
   "outputs": [
    {
     "data": {
      "text/plain": [
       "StructType([StructField('Id', IntegerType(), True), StructField('First', StringType(), True), StructField('Last', StringType(), True), StructField('Url', StringType(), True), StructField('Published', StringType(), True), StructField('Hits', IntegerType(), True), StructField('Campaigns', ArrayType(StringType(), True), True)])"
      ]
     },
     "execution_count": 24,
     "metadata": {},
     "output_type": "execute_result"
    }
   ],
   "source": [
    "data_df.schema"
   ]
  },
  {
   "cell_type": "code",
   "execution_count": null,
   "id": "ecacaba7-40db-458b-b7c7-e1e27c0d2557",
   "metadata": {},
   "outputs": [],
   "source": []
  },
  {
   "cell_type": "code",
   "execution_count": null,
   "id": "cb09174b-bde5-4782-86ec-afb4dbe4c4ed",
   "metadata": {},
   "outputs": [],
   "source": []
  },
  {
   "cell_type": "code",
   "execution_count": null,
   "id": "c70a9929-bc80-4643-bd0d-a5f3d5e87ada",
   "metadata": {},
   "outputs": [],
   "source": []
  },
  {
   "cell_type": "code",
   "execution_count": null,
   "id": "6afd748f-2934-4046-8af8-b8db6502f7a8",
   "metadata": {},
   "outputs": [],
   "source": []
  },
  {
   "cell_type": "code",
   "execution_count": null,
   "id": "7f6cf35c-6434-47b0-aab1-7eaed940d0f5",
   "metadata": {},
   "outputs": [],
   "source": []
  },
  {
   "cell_type": "markdown",
   "id": "33f7e683-e57e-4220-911d-357cf1ea2363",
   "metadata": {},
   "source": [
    "# Stop SparkSession"
   ]
  },
  {
   "cell_type": "code",
   "execution_count": 32,
   "id": "2bb22fe1-5ee1-4b3f-ab23-deac85e71823",
   "metadata": {},
   "outputs": [],
   "source": [
    "spark.stop()"
   ]
  },
  {
   "cell_type": "code",
   "execution_count": null,
   "id": "a4fc6fa2-af77-4460-9902-9431b776ed5c",
   "metadata": {},
   "outputs": [],
   "source": []
  },
  {
   "cell_type": "code",
   "execution_count": null,
   "id": "1f7fdd1f-4c9d-4e3e-b4a7-ef196532339e",
   "metadata": {},
   "outputs": [],
   "source": []
  }
 ],
 "metadata": {
  "kernelspec": {
   "display_name": "Python 3 (ipykernel)",
   "language": "python",
   "name": "python3"
  },
  "language_info": {
   "codemirror_mode": {
    "name": "ipython",
    "version": 3
   },
   "file_extension": ".py",
   "mimetype": "text/x-python",
   "name": "python",
   "nbconvert_exporter": "python",
   "pygments_lexer": "ipython3",
   "version": "3.10.12"
  }
 },
 "nbformat": 4,
 "nbformat_minor": 5
}
